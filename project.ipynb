{
 "cells": [
  {
   "cell_type": "code",
   "execution_count": 1,
   "metadata": {},
   "outputs": [],
   "source": [
    "#importer les modules\n",
    "\n",
    "import cv2 as cv\n",
    "import math\n"
   ]
  },
  {
   "cell_type": "code",
   "execution_count": 2,
   "metadata": {},
   "outputs": [],
   "source": [
    "#recuper la video ,le fichier haar et les information\n",
    "\n",
    "body_cascade = cv.CascadeClassifier(\"haarcascade_fullbody.xml\")\n",
    "video = cv.VideoCapture(\"video.mp4\")\n",
    "N = float(input('Donner un Seuil :'))\n",
    "#verifier l'ouverture de video\n",
    "if (video.isOpened()== False):\n",
    "\n",
    "    print(\"Error opening video stream or file\")\n",
    "#lecture de video\n",
    "while(video.isOpened()):\n",
    "    ret, frame = video.read()\n",
    "    \n",
    "    #detection du personne utilisee fichier haar\n",
    "    body = body_cascade.detectMultiScale(frame,scaleFactor=1.1, minNeighbors=3)\n",
    "    for (x,y,w,h) in body:\n",
    "        d=0\n",
    "        trt = True\n",
    "        for (x1,y1,w1,h1) in body:\n",
    "            #traitement pour calculer lq distance entre deux objets\n",
    "            if x!=x1 and y!=y1:\n",
    "                d = math.sqrt(((x+w//2)-(x1+w1//2))**2+((y+h//2)-(y1+h1//2))**2)\n",
    "                if d < N*100:\n",
    "                    trt = False\n",
    "                \n",
    "            if trt:\n",
    "                cv.rectangle(frame,(x,y),(x+w,y+h),(0,255,0),2)\n",
    "                \n",
    "            else:\n",
    "                cv.rectangle(frame,(x,y),(x+w,y+h),(0,0,255),2)\n",
    "            \n",
    "   \n",
    "    #lecture de video\n",
    "    cv.imshow('Frame',frame)\n",
    "\n",
    "    if cv.waitKey(30) & 0xFF == ord('q'):\n",
    "        break\n",
    "    \n",
    "\n",
    "#arret de la fenetre de video\n",
    "cv.destroyAllWindows()\n"
   ]
  }
 ],
 "metadata": {
  "interpreter": {
   "hash": "384a4af051c93a1215b62cb9cae2e54a79e8771422a70c95259062bd99afe96d"
  },
  "kernelspec": {
   "display_name": "Python 3.9.7 ('base')",
   "language": "python",
   "name": "python3"
  },
  "language_info": {
   "codemirror_mode": {
    "name": "ipython",
    "version": 3
   },
   "file_extension": ".py",
   "mimetype": "text/x-python",
   "name": "python",
   "nbconvert_exporter": "python",
   "pygments_lexer": "ipython3",
   "version": "3.9.7"
  },
  "orig_nbformat": 4
 },
 "nbformat": 4,
 "nbformat_minor": 2
}
